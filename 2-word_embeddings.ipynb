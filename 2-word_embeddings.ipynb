{
 "cells": [
  {
   "cell_type": "markdown",
   "id": "333b1778",
   "metadata": {},
   "source": [
    "# Procesamiento de Lenguaje Natural I\n",
    "\n",
    "**Autor:** Gonzalo G. Fernandez\n",
    "\n",
    "Clase 2: Word embeddings\n",
    "\n",
    "## Consigna desafío 2\n",
    "\n",
    "1. Crear sus propios vectores con Gensim basado en lo visto en clase con otro dataset.\n",
    "2. Probar términos de interés y explicar similitudes en el espacio de embeddings (sacar conclusiones entre palabras similitudes y diferencias).\n",
    "3. Graficarlos.\n",
    "4. Obtener conclusiones."
   ]
  },
  {
   "cell_type": "code",
   "execution_count": 127,
   "id": "8d88ecdf",
   "metadata": {},
   "outputs": [],
   "source": [
    "import re\n",
    "import string\n",
    "\n",
    "from gensim.models import Word2Vec\n",
    "from gensim.models.callbacks import CallbackAny2Vec\n",
    "import numpy as np\n",
    "import pandas as pd\n",
    "import plotly.graph_objects as go\n",
    "import plotly.express as px\n",
    "from tensorflow.keras.preprocessing.text import text_to_word_sequence\n",
    "import spacy # python -m spacy download es_core_news_sm\n",
    "from sklearn.decomposition import IncrementalPCA\n",
    "from sklearn.manifold import TSNE\n",
    "from sklearn.metrics.pairwise import cosine_similarity"
   ]
  },
  {
   "cell_type": "markdown",
   "id": "b71d2ca2",
   "metadata": {},
   "source": [
    "## Resolución\n",
    "\n",
    "El objetivo es utilizar documentos / corpus para crear embeddings de palabras basado en ese contexto. Se utilizarán los diálogos de la película argentina \"Nueve Reinas\" del año 2000 como corpus."
   ]
  },
  {
   "cell_type": "code",
   "execution_count": 128,
   "id": "74c9eceb",
   "metadata": {},
   "outputs": [
    {
     "name": "stdout",
     "output_type": "stream",
     "text": [
      "Total dialogues extracted: 1371\n",
      "¿Qué estás leyendo?\n",
      "Nada... disculpáme. No, está todo bien.\n",
      "¿Nada más que esto? Sí.\n",
      "Esta máquina me vuelve loca. Después lo registro.\n",
      "1.25 más 3.75 son... 5\n"
     ]
    }
   ],
   "source": [
    "def parse_srt_to_dialogue(file_path):\n",
    "    with open(file_path, \"r\", encoding=\"utf-8\") as f:\n",
    "        content = f.read()\n",
    "\n",
    "    blocks = re.split(r\"\\n\\s*\\n\", content.strip())\n",
    "\n",
    "    dialogues = []\n",
    "    for block in blocks:\n",
    "        lines = block.strip().split(\"\\n\")\n",
    "\n",
    "        # first two lines are number and timestamp\n",
    "        if len(lines) >= 3:\n",
    "            dialogue_lines = lines[2:]\n",
    "            cleaned_lines = [\n",
    "                re.sub(r\"^- \", \"\", line).strip() for line in dialogue_lines\n",
    "            ]\n",
    "            dialogue = \" \".join(cleaned_lines).strip()\n",
    "            if dialogue:\n",
    "                dialogues.append(dialogue)\n",
    "\n",
    "    return dialogues\n",
    "\n",
    "\n",
    "dialogues = parse_srt_to_dialogue(\"data/nueve_reinas-subtitles.srt\")\n",
    "print(f\"Total dialogues extracted: {len(dialogues)}\")\n",
    "for d in dialogues[:5]:\n",
    "    print(d)"
   ]
  },
  {
   "cell_type": "code",
   "execution_count": 129,
   "id": "c3443e21",
   "metadata": {},
   "outputs": [
    {
     "data": {
      "application/vnd.microsoft.datawrangler.viewer.v0+json": {
       "columns": [
        {
         "name": "index",
         "rawType": "int64",
         "type": "integer"
        },
        {
         "name": "dialogue",
         "rawType": "object",
         "type": "string"
        }
       ],
       "conversionMethod": "pd.DataFrame",
       "ref": "54754e26-4240-4400-8aca-eb82ae4ae379",
       "rows": [
        [
         "0",
         "¿Qué estás leyendo?"
        ],
        [
         "1",
         "Nada... disculpáme. No, está todo bien."
        ],
        [
         "2",
         "¿Nada más que esto? Sí."
        ],
        [
         "3",
         "Esta máquina me vuelve loca. Después lo registro."
        ],
        [
         "4",
         "1.25 más 3.75 son... 5"
        ]
       ],
       "shape": {
        "columns": 1,
        "rows": 5
       }
      },
      "text/html": [
       "<div>\n",
       "<style scoped>\n",
       "    .dataframe tbody tr th:only-of-type {\n",
       "        vertical-align: middle;\n",
       "    }\n",
       "\n",
       "    .dataframe tbody tr th {\n",
       "        vertical-align: top;\n",
       "    }\n",
       "\n",
       "    .dataframe thead th {\n",
       "        text-align: right;\n",
       "    }\n",
       "</style>\n",
       "<table border=\"1\" class=\"dataframe\">\n",
       "  <thead>\n",
       "    <tr style=\"text-align: right;\">\n",
       "      <th></th>\n",
       "      <th>dialogue</th>\n",
       "    </tr>\n",
       "  </thead>\n",
       "  <tbody>\n",
       "    <tr>\n",
       "      <th>0</th>\n",
       "      <td>¿Qué estás leyendo?</td>\n",
       "    </tr>\n",
       "    <tr>\n",
       "      <th>1</th>\n",
       "      <td>Nada... disculpáme. No, está todo bien.</td>\n",
       "    </tr>\n",
       "    <tr>\n",
       "      <th>2</th>\n",
       "      <td>¿Nada más que esto? Sí.</td>\n",
       "    </tr>\n",
       "    <tr>\n",
       "      <th>3</th>\n",
       "      <td>Esta máquina me vuelve loca. Después lo registro.</td>\n",
       "    </tr>\n",
       "    <tr>\n",
       "      <th>4</th>\n",
       "      <td>1.25 más 3.75 son... 5</td>\n",
       "    </tr>\n",
       "  </tbody>\n",
       "</table>\n",
       "</div>"
      ],
      "text/plain": [
       "                                            dialogue\n",
       "0                                ¿Qué estás leyendo?\n",
       "1            Nada... disculpáme. No, está todo bien.\n",
       "2                            ¿Nada más que esto? Sí.\n",
       "3  Esta máquina me vuelve loca. Después lo registro.\n",
       "4                             1.25 más 3.75 son... 5"
      ]
     },
     "execution_count": 129,
     "metadata": {},
     "output_type": "execute_result"
    }
   ],
   "source": [
    "df = pd.DataFrame(dialogues, columns=[\"dialogue\"])\n",
    "df.head()"
   ]
  },
  {
   "cell_type": "markdown",
   "id": "96d4a723",
   "metadata": {},
   "source": [
    "### Preprocesamiento\n",
    "Transformación de oraciones a secuencia de palabras:"
   ]
  },
  {
   "cell_type": "code",
   "execution_count": 130,
   "id": "65ecadc1",
   "metadata": {},
   "outputs": [
    {
     "name": "stdout",
     "output_type": "stream",
     "text": [
      "[['¿', 'leer'], ['...', 'disculpáme'], ['¿'], ['máquina', 'volver', 'loca', 'registro'], ['1.25', '3.75', '...', '5']]\n"
     ]
    }
   ],
   "source": [
    "nlp = spacy.load(\"es_core_news_sm\")\n",
    "\n",
    "\n",
    "def spacy_process(text):\n",
    "    doc = nlp(text)\n",
    "\n",
    "    # Tokenization & lemmatization\n",
    "    lemma_list = []\n",
    "    for token in doc:\n",
    "        lemma_list.append(token.lemma_)\n",
    "\n",
    "    # Stop words\n",
    "    filtered_sentence = []\n",
    "    for word in lemma_list:\n",
    "        lexeme = nlp.vocab[word]\n",
    "        if lexeme.is_stop == False:\n",
    "            filtered_sentence.append(word)\n",
    "\n",
    "    # Filter punctuation\n",
    "    filtered_sentence = [w for w in filtered_sentence if w not in string.punctuation]\n",
    "    return filtered_sentence\n",
    "\n",
    "sentence_tokens = [spacy_process(row.iloc[0]) for _, row in df.iterrows()]\n",
    "print(sentence_tokens[:5])"
   ]
  },
  {
   "cell_type": "code",
   "execution_count": 131,
   "id": "a741a89a",
   "metadata": {},
   "outputs": [
    {
     "name": "stdout",
     "output_type": "stream",
     "text": [
      "[['¿qué', 'estás', 'leyendo'], ['nada', 'disculpáme', 'no', 'está', 'todo', 'bien'], ['¿nada', 'más', 'que', 'esto', 'sí'], ['esta', 'máquina', 'me', 'vuelve', 'loca', 'después', 'lo', 'registro'], ['1', '25', 'más', '3', '75', 'son', '5']]\n"
     ]
    }
   ],
   "source": [
    "sentence_tokens = [text_to_word_sequence(row.iloc[0]) for _, row in df.iterrows()]\n",
    "print(sentence_tokens[:5])"
   ]
  },
  {
   "cell_type": "markdown",
   "id": "c37e79db",
   "metadata": {},
   "source": [
    "Se obtuvieron mejores resultados con `text_to_word_sequence` que con `spacy`."
   ]
  },
  {
   "cell_type": "markdown",
   "id": "6059a1cf",
   "metadata": {},
   "source": [
    "### Creación de los vectores (word2vec)\n",
    "Añadimos callback en gensim para permitir monitoriar el loss despues de cada epoch:"
   ]
  },
  {
   "cell_type": "code",
   "execution_count": 132,
   "id": "b6651979",
   "metadata": {},
   "outputs": [],
   "source": [
    "class callback(CallbackAny2Vec):\n",
    "    \"\"\"Callback to print loss after each epoch.\"\"\"\n",
    "\n",
    "    def __init__(self):\n",
    "        self.epoch = 0\n",
    "\n",
    "    def on_epoch_end(self, model):\n",
    "        loss = model.get_latest_training_loss()\n",
    "        if self.epoch == 0:\n",
    "            print(\"Loss after epoch {}: {}\".format(self.epoch, loss))\n",
    "        else:\n",
    "            print(\n",
    "                \"Loss after epoch {}: {}\".format(\n",
    "                    self.epoch, loss - self.loss_previous_step\n",
    "                )\n",
    "            )\n",
    "        self.epoch += 1\n",
    "        self.loss_previous_step = loss"
   ]
  },
  {
   "cell_type": "markdown",
   "id": "22ff219e",
   "metadata": {},
   "source": [
    "Creación del modelo generador de vectores, en este caso skipgram:"
   ]
  },
  {
   "cell_type": "code",
   "execution_count": 133,
   "id": "8a2c0dc0",
   "metadata": {},
   "outputs": [],
   "source": [
    "w2v_model = Word2Vec(\n",
    "    min_count=5,  # min frquency to include the word in the vocab\n",
    "    window=2,  # number of words before and after the word\n",
    "    vector_size=300,  # vector size\n",
    "    negative=20,  # negative sampling\n",
    "    workers=4,\n",
    "    sg=1,  # skipgram (1) or CBOW (0)\n",
    ")"
   ]
  },
  {
   "cell_type": "markdown",
   "id": "c5874917",
   "metadata": {},
   "source": [
    "Obtención del vocabulario a través de los tokens que se obtuvieron en el preprocesamiento:"
   ]
  },
  {
   "cell_type": "code",
   "execution_count": 134,
   "id": "49b49abc",
   "metadata": {},
   "outputs": [
    {
     "name": "stdout",
     "output_type": "stream",
     "text": [
      "Cantidad de docs en el corpus: 1371\n",
      "Cantidad de words distintas en el corpus: 326\n"
     ]
    }
   ],
   "source": [
    "w2v_model.build_vocab(sentence_tokens)\n",
    "print(\"Cantidad de docs en el corpus:\", w2v_model.corpus_count)\n",
    "print(\"Cantidad de words distintas en el corpus:\", len(w2v_model.wv.index_to_key))"
   ]
  },
  {
   "cell_type": "markdown",
   "id": "c7e920f6",
   "metadata": {},
   "source": [
    "Entrenamiento del modelo:"
   ]
  },
  {
   "cell_type": "code",
   "execution_count": 135,
   "id": "a84992e7",
   "metadata": {},
   "outputs": [
    {
     "name": "stdout",
     "output_type": "stream",
     "text": [
      "Loss after epoch 0: 82433.296875\n",
      "Loss after epoch 1: 33194.546875\n",
      "Loss after epoch 2: 30155.75\n",
      "Loss after epoch 3: 30698.203125\n",
      "Loss after epoch 4: 29862.59375\n",
      "Loss after epoch 5: 30284.5625\n",
      "Loss after epoch 6: 30285.890625\n",
      "Loss after epoch 7: 30976.375\n",
      "Loss after epoch 8: 30267.75\n",
      "Loss after epoch 9: 29870.34375\n",
      "Loss after epoch 10: 29932.0\n",
      "Loss after epoch 11: 29957.96875\n",
      "Loss after epoch 12: 30697.03125\n",
      "Loss after epoch 13: 30266.90625\n",
      "Loss after epoch 14: 31082.46875\n",
      "Loss after epoch 15: 30619.625\n",
      "Loss after epoch 16: 31133.625\n",
      "Loss after epoch 17: 30240.9375\n",
      "Loss after epoch 18: 31574.6875\n",
      "Loss after epoch 19: 30371.8125\n"
     ]
    },
    {
     "data": {
      "text/plain": [
       "(82102, 191020)"
      ]
     },
     "execution_count": 135,
     "metadata": {},
     "output_type": "execute_result"
    }
   ],
   "source": [
    "w2v_model.train(\n",
    "    sentence_tokens,\n",
    "    total_examples=w2v_model.corpus_count,\n",
    "    epochs=20,\n",
    "    compute_loss=True,\n",
    "    callbacks=[callback()],\n",
    ")"
   ]
  },
  {
   "cell_type": "markdown",
   "id": "fa1b1fc2",
   "metadata": {},
   "source": [
    "### Exploración de los vectores"
   ]
  },
  {
   "cell_type": "code",
   "execution_count": 136,
   "id": "45027d90",
   "metadata": {},
   "outputs": [
    {
     "data": {
      "text/plain": [
       "[('vieja', 0.9991167187690735),\n",
       " ('socio', 0.9990863800048828),\n",
       " ('abogado', 0.9990856051445007),\n",
       " ('amigo', 0.9990633726119995),\n",
       " ('marido', 0.9988681077957153),\n",
       " ('viejo', 0.9988553524017334),\n",
       " ('mamá', 0.9988453388214111),\n",
       " ('valeria', 0.9986215233802795),\n",
       " ('tenías', 0.9985424280166626),\n",
       " ('pensé', 0.998537003993988)]"
      ]
     },
     "execution_count": 136,
     "metadata": {},
     "output_type": "execute_result"
    }
   ],
   "source": [
    "w2v_model.wv.most_similar(positive=[\"hermano\"], topn=10)"
   ]
  },
  {
   "cell_type": "markdown",
   "id": "32cfaf38",
   "metadata": {},
   "source": [
    "Se puede observar como los vectores similares a \"hermano\" son de palabras que identifican personas."
   ]
  },
  {
   "cell_type": "code",
   "execution_count": 137,
   "id": "2e7c74f6",
   "metadata": {},
   "outputs": [
    {
     "data": {
      "text/plain": [
       "[('laburo', 0.9984562993049622),\n",
       " ('caja', 0.9984362721443176),\n",
       " ('casa', 0.9984316825866699),\n",
       " ('plancha', 0.9984221458435059),\n",
       " ('podés', 0.998421847820282),\n",
       " ('vida', 0.9984095096588135),\n",
       " ('aquí', 0.99839848279953),\n",
       " ('cifra', 0.9983983039855957),\n",
       " ('plata', 0.9983944892883301),\n",
       " ('sobre', 0.9983701109886169)]"
      ]
     },
     "execution_count": 137,
     "metadata": {},
     "output_type": "execute_result"
    }
   ],
   "source": [
    "w2v_model.wv.most_similar(positive=[\"guita\"], topn=10)"
   ]
  },
  {
   "cell_type": "markdown",
   "id": "1b7c3b37",
   "metadata": {},
   "source": [
    "Se puede observar como los vectores similares a \"guita\" son de palabras que se relacionan con el dinero (siendo el término \"guita\" argentino)."
   ]
  },
  {
   "cell_type": "code",
   "execution_count": 138,
   "id": "aadaeddb",
   "metadata": {},
   "outputs": [
    {
     "data": {
      "text/plain": [
       "[('dijiste', 0.9982295036315918), ('dame', 0.9980218410491943)]"
      ]
     },
     "execution_count": 138,
     "metadata": {},
     "output_type": "execute_result"
    }
   ],
   "source": [
    "w2v_model.wv.most_similar(positive=[\"cheque\"], topn=2)"
   ]
  },
  {
   "cell_type": "markdown",
   "id": "67c021fa",
   "metadata": {},
   "source": [
    "Test de analogía con viejo/a y hermano/a:"
   ]
  },
  {
   "cell_type": "code",
   "execution_count": 139,
   "id": "5a287583",
   "metadata": {},
   "outputs": [
    {
     "data": {
      "text/plain": [
       "-0.15676473"
      ]
     },
     "execution_count": 139,
     "metadata": {},
     "output_type": "execute_result"
    }
   ],
   "source": [
    "vector_viejo = w2v_model.wv.get_vector(\"viejo\")\n",
    "vector_hermano = w2v_model.wv.get_vector(\"hermano\")\n",
    "vector_vieja = w2v_model.wv.get_vector(\"vieja\")\n",
    "vector_hermana = w2v_model.wv.get_vector(\"hermana\")\n",
    "\n",
    "viejo_hermano = vector_viejo - vector_hermano\n",
    "vieja_hermana = vector_vieja - vector_hermana\n",
    "\n",
    "cosine_similarity(\n",
    "    vieja_hermana.reshape(1, -1),\n",
    "    viejo_hermano.reshape(1, -1),\n",
    ")[0][0]\n"
   ]
  },
  {
   "cell_type": "markdown",
   "id": "9349020b",
   "metadata": {},
   "source": [
    "No se obtuvieron buenos resultados en el test de analogía, el valore resultante al analizar similaridad dista de 1."
   ]
  },
  {
   "cell_type": "code",
   "execution_count": 140,
   "id": "d921439e",
   "metadata": {},
   "outputs": [
    {
     "data": {
      "text/plain": [
       "0.9974798"
      ]
     },
     "execution_count": 140,
     "metadata": {},
     "output_type": "execute_result"
    }
   ],
   "source": [
    "cosine_similarity(\n",
    "    w2v_model.wv.get_vector(\"hoy\").reshape(1, -1),\n",
    "    w2v_model.wv.get_vector(\"mañana\").reshape(1, -1),\n",
    ")[0][0]"
   ]
  },
  {
   "cell_type": "markdown",
   "id": "8e9f0d46",
   "metadata": {},
   "source": [
    "### Visualización\n",
    "Para poder visualizar el espacio vectorial se realiza una reducción de dimensiones mediante TSNE:"
   ]
  },
  {
   "cell_type": "code",
   "execution_count": 141,
   "id": "ed0def82",
   "metadata": {},
   "outputs": [],
   "source": [
    "def reduce_dimensions(model, num_dimensions=2):\n",
    "    \"\"\"Reduce the dimensions of the word vectors using t-SNE.\"\"\"\n",
    "    vectors = np.asarray(model.wv.vectors)\n",
    "    labels = np.asarray(model.wv.index_to_key)\n",
    "    tsne = TSNE(n_components=num_dimensions, random_state=0)\n",
    "    vectors = tsne.fit_transform(vectors)\n",
    "    return vectors, labels"
   ]
  },
  {
   "cell_type": "markdown",
   "id": "22df9263",
   "metadata": {},
   "source": [
    "A continuación se visulizan 200 palabras en 2 dimensiones:"
   ]
  },
  {
   "cell_type": "code",
   "execution_count": 142,
   "id": "24dfc5d7",
   "metadata": {},
   "outputs": [
    {
     "data": {
      "application/vnd.plotly.v1+json": {
       "config": {
        "plotlyServerURL": "https://plot.ly"
       },
       "data": [
        {
         "hovertemplate": "x=%{x}<br>y=%{y}<br>text=%{text}<extra></extra>",
         "legendgroup": "",
         "marker": {
          "color": "#636efa",
          "symbol": "circle"
         },
         "mode": "markers+text",
         "name": "",
         "orientation": "v",
         "showlegend": false,
         "text": [
          "no",
          "que",
          "a",
          "de",
          "la",
          "te",
          "me",
          "el",
          "un",
          "lo",
          "es",
          "y",
          "en",
          "yo",
          "¿qué",
          "se",
          "vos",
          "qué",
          "por",
          "las",
          "con",
          "una",
          "para",
          "si",
          "mi",
          "los",
          "le",
          "tu",
          "está",
          "pero",
          "más",
          "sí",
          "tengo",
          "voy",
          "esto",
          "nada",
          "eso",
          "¿y",
          "estás",
          "ya",
          "al",
          "pasa",
          "guita",
          "del",
          "bien",
          "como",
          "hermana",
          "algo",
          "hacer",
          "va",
          "todo",
          "sé",
          "estoy",
          "acá",
          "tiene",
          "¿no",
          "¿por",
          "mí",
          "nos",
          "bueno",
          "él",
          "era",
          "estampillas",
          "¿cómo",
          "cosa",
          "hace",
          "son",
          "ni",
          "porque",
          "ahora",
          "mierda",
          "soy",
          "¿te",
          "puedo",
          "querés",
          "sos",
          "así",
          "50",
          "ver",
          "muy",
          "hay",
          "lucas",
          "tenés",
          "tiempo",
          "ella",
          "hotel",
          "viejo",
          "ahí",
          "este",
          "quiero",
          "cheque",
          "000",
          "plata",
          "puta",
          "menos",
          "sandler",
          "¿de",
          "o",
          "tipo",
          "dos",
          "usted",
          "sea",
          "hacés",
          "verdad",
          "todos",
          "falta",
          "hoy",
          "dijo",
          "mejor",
          "ser",
          "mucho",
          "vamos",
          "vez",
          "vidal",
          "nunca",
          "quiere",
          "fue",
          "¿quién",
          "mamá",
          "marcos",
          "vas",
          "mismo",
          "quién",
          "boludo",
          "mal",
          "pasó",
          "puede",
          "favor",
          "vida",
          "parte",
          "pará",
          "hermano",
          "cómo",
          "pelotudo",
          "decir",
          "digo",
          "otra",
          "mirá",
          "necesito",
          "cuando",
          "tenía",
          "esta",
          "día",
          "negocio",
          "ese",
          "llamar",
          "poco",
          "dónde",
          "vení",
          "ir",
          "dale",
          "dame",
          "toda",
          "hijo",
          "creés",
          "hablando",
          "uno",
          "sobre",
          "también",
          "están",
          "tan",
          "escucháme",
          "estamos",
          "mañana",
          "amigo",
          "¿a",
          "truco",
          "10",
          "esa",
          "culo",
          "importa",
          "hasta",
          "gracias",
          "allá",
          "chau",
          "otro",
          "marido",
          "asunto",
          "hice",
          "¿estás",
          "nadie",
          "su",
          "estaba",
          "pibe",
          "quería",
          "claro",
          "cierto",
          "después",
          "tema",
          "vieja",
          "vi",
          "tú",
          "sabés",
          "digas",
          "200",
          "nueve",
          "vale",
          "quizás",
          "veces",
          "tuyo"
         ],
         "type": "scatter",
         "x": {
          "bdata": "W3pXQCxWmr9ejqNAFVETQTHlIsCSvjlAMpYPQbDdcT/6ZQdBO9yKQK5VED+fbQnB4SogP/UQQkBSg40/MfqJQNTE7UA+a9A/nT7/vxaeqEBUnKO/1Mr5v6zXLsAfWZNA8qBFwWYmYsD7HZK9yZtFwdOU+j8j/WtA0rmbwNDjAz/gcC8/HCDgQPjNpkC+gIrAsSKOQEfexD2I1eA/3jMeweDFycA8oZY/lHLjv10kfT/Z5uRAEypxwEawHMD4zjvAmSX8v8V34EBgBA1BhXfoP2IpH8Dradu/Q2GLwFEhb8BfIvc/vVndQF4gNMBQPKXAHAzPQClKMMAEe59AC2xfwEzmJsEnSo7ARF6OQNHJqsDFxF1AHXr2wJVdRcCI2xS/ve2EwNM+3MDoY5g/Ct4UQe1dA8F/9hnBwl+jQO6OysB5PxNB3kEYwfpH+EDJ1ibAlIVpPhWXYr+luBXAwH02QBYi/8BVr84/hniRwL4WA8HPn0W/NRcTQaVWWsB5OPS+A2+TvU25+MD5UivA4TUEwY2Oj0D6+eTAohm7P4nLh74252rAsr+OwApilsDwM3i/byVRQIuO8kDX9HfAwv/ov5yYA78SRQk+HwLdwFKSX0ATya8+wR6/QHaF6b/Vh7XAEO3VQKczlsBqY7VA9E3Zv6a7AMEJmpY/erKOvyrFo0BvvXrAc5vfvqDGmkBx/iTAzrJPP/f25b+lPoVARs38P1SAJsFdQChATdj1P2azzcCIZgXBpD7FwKmo+r86yCTAVTg4wFs3x0BmSIbAImRWvEHG7UDVU8nAGFHqv06EjcBri2HAsaEYQUvnXb8+vaQ/OOYEwYueYkCpPczAO4R7QHEJx8D0nwJAPMp1QC70z8A1sAPAvHROP5lIckCPSPrAFoIGwNEQgECrzoq/if52QOU+rkBOw/g9TuXGQB72VT4CKhTA3qYKwVYkM8Cip23AWw0NwAuAlMBQntfAlXQSP/chVUCBWFJA9DyjQCfisMCLweJA3BrZv2gnC0ADbGs/EXe7QPLjijyyZxvBLo2vQKQPDsEHucDAJ53VwKITy0A=",
          "dtype": "f4"
         },
         "xaxis": "x",
         "y": {
          "bdata": "pjz/QK63RkDGmANBg0NDwCUssMCot75AtjHdPlmm7MBAImrAZzyZQIqVuED8cRo/4iPSwOV8s0A3GylB5Em6QNW4lUCdplrA6mwTQXpFj8C6GOHA5XPlPtgVOT9vevBAvKEcwI+8SkC0lIpAOLYcwGxd8r8f1pfA6cHpPxeZqkCK67c/4pv0QKSmlUCWwPY/BOcUwMNscMAsC0LA1wSMvxIe68B/5SVB+A2SwN4R6cB3FS8/WnJnwPtFGcFg4l3A4nFKQGdk9UDCtZ1AexmBwFeYKUAT6ADAAR2RQC/+37/YMorA7D7YQDEZJMCSfFJAurW9QO5zCcGgcGnAEP+RvrbkMkApX57A5muKwEyXEUCpDQZBcKSNvlg65kCrmLpAMy4jP1mNrkDIzSNBrl5BwCxBbUAh+tbAuojRQAighcAZKSVA3Q/QwNRs3z8wNZfAe07IP4y1tcAoXxXBigysvziDAsDjl9pAhUzbQCkO3MAN2PQ/u7RWwMHgqD8QDBXAxipzwPijGED/So5AhwFYvv+dnb8hllTA7lEfQW3/MUBiEChAlCd/wEcxG0GC9oJAZah3QLrYH8CybI3AF638P3PCgz+nx1hAIwaRv9FxY8AHwCrA0AZ0PtNXDcGiYcO+3PDoQLIjG0GUpvQ+Lz62QEtXZEC8vSJBM40Ivql+H78rm/PA7Sr5QB09Oz+i0w7BCc6GQC7Ot0BrgvFA9x+fQNpTMkBaJ19A+MnZQPN/4T+yvWQ/ke4wP6dMQcA6EYlAcBvewMqw80ChDY1AKZeVwMKpUEC6F41A04zfP94N0EBp2rzAdiM4wOBy8UD/vEvAcUuKP9wGkz/RBo5AQCmLwPHrd8CZiHFAivP2PuUotT+MigbBgo0FwEyT6cDKgI7APCYmPvSQob6sQFbAcb5HQAOdGkCQqTC+rFEIQGrfXz7TO/3AmyUqwHB1J7+PL3C/Qu0lQAxewMDWgkLAHE8WQLRwmkAkiAVAJSKEQFEZrr+CyGy/UZoJweMvgj9PdMDAMP7SP8dWGUBf6a3ArpaEwHjlK8Am517AhTAxv9BMVEA=",
          "dtype": "f4"
         },
         "yaxis": "y"
        }
       ],
       "layout": {
        "legend": {
         "tracegroupgap": 0
        },
        "margin": {
         "t": 60
        },
        "template": {
         "data": {
          "bar": [
           {
            "error_x": {
             "color": "#2a3f5f"
            },
            "error_y": {
             "color": "#2a3f5f"
            },
            "marker": {
             "line": {
              "color": "#E5ECF6",
              "width": 0.5
             },
             "pattern": {
              "fillmode": "overlay",
              "size": 10,
              "solidity": 0.2
             }
            },
            "type": "bar"
           }
          ],
          "barpolar": [
           {
            "marker": {
             "line": {
              "color": "#E5ECF6",
              "width": 0.5
             },
             "pattern": {
              "fillmode": "overlay",
              "size": 10,
              "solidity": 0.2
             }
            },
            "type": "barpolar"
           }
          ],
          "carpet": [
           {
            "aaxis": {
             "endlinecolor": "#2a3f5f",
             "gridcolor": "white",
             "linecolor": "white",
             "minorgridcolor": "white",
             "startlinecolor": "#2a3f5f"
            },
            "baxis": {
             "endlinecolor": "#2a3f5f",
             "gridcolor": "white",
             "linecolor": "white",
             "minorgridcolor": "white",
             "startlinecolor": "#2a3f5f"
            },
            "type": "carpet"
           }
          ],
          "choropleth": [
           {
            "colorbar": {
             "outlinewidth": 0,
             "ticks": ""
            },
            "type": "choropleth"
           }
          ],
          "contour": [
           {
            "colorbar": {
             "outlinewidth": 0,
             "ticks": ""
            },
            "colorscale": [
             [
              0,
              "#0d0887"
             ],
             [
              0.1111111111111111,
              "#46039f"
             ],
             [
              0.2222222222222222,
              "#7201a8"
             ],
             [
              0.3333333333333333,
              "#9c179e"
             ],
             [
              0.4444444444444444,
              "#bd3786"
             ],
             [
              0.5555555555555556,
              "#d8576b"
             ],
             [
              0.6666666666666666,
              "#ed7953"
             ],
             [
              0.7777777777777778,
              "#fb9f3a"
             ],
             [
              0.8888888888888888,
              "#fdca26"
             ],
             [
              1,
              "#f0f921"
             ]
            ],
            "type": "contour"
           }
          ],
          "contourcarpet": [
           {
            "colorbar": {
             "outlinewidth": 0,
             "ticks": ""
            },
            "type": "contourcarpet"
           }
          ],
          "heatmap": [
           {
            "colorbar": {
             "outlinewidth": 0,
             "ticks": ""
            },
            "colorscale": [
             [
              0,
              "#0d0887"
             ],
             [
              0.1111111111111111,
              "#46039f"
             ],
             [
              0.2222222222222222,
              "#7201a8"
             ],
             [
              0.3333333333333333,
              "#9c179e"
             ],
             [
              0.4444444444444444,
              "#bd3786"
             ],
             [
              0.5555555555555556,
              "#d8576b"
             ],
             [
              0.6666666666666666,
              "#ed7953"
             ],
             [
              0.7777777777777778,
              "#fb9f3a"
             ],
             [
              0.8888888888888888,
              "#fdca26"
             ],
             [
              1,
              "#f0f921"
             ]
            ],
            "type": "heatmap"
           }
          ],
          "histogram": [
           {
            "marker": {
             "pattern": {
              "fillmode": "overlay",
              "size": 10,
              "solidity": 0.2
             }
            },
            "type": "histogram"
           }
          ],
          "histogram2d": [
           {
            "colorbar": {
             "outlinewidth": 0,
             "ticks": ""
            },
            "colorscale": [
             [
              0,
              "#0d0887"
             ],
             [
              0.1111111111111111,
              "#46039f"
             ],
             [
              0.2222222222222222,
              "#7201a8"
             ],
             [
              0.3333333333333333,
              "#9c179e"
             ],
             [
              0.4444444444444444,
              "#bd3786"
             ],
             [
              0.5555555555555556,
              "#d8576b"
             ],
             [
              0.6666666666666666,
              "#ed7953"
             ],
             [
              0.7777777777777778,
              "#fb9f3a"
             ],
             [
              0.8888888888888888,
              "#fdca26"
             ],
             [
              1,
              "#f0f921"
             ]
            ],
            "type": "histogram2d"
           }
          ],
          "histogram2dcontour": [
           {
            "colorbar": {
             "outlinewidth": 0,
             "ticks": ""
            },
            "colorscale": [
             [
              0,
              "#0d0887"
             ],
             [
              0.1111111111111111,
              "#46039f"
             ],
             [
              0.2222222222222222,
              "#7201a8"
             ],
             [
              0.3333333333333333,
              "#9c179e"
             ],
             [
              0.4444444444444444,
              "#bd3786"
             ],
             [
              0.5555555555555556,
              "#d8576b"
             ],
             [
              0.6666666666666666,
              "#ed7953"
             ],
             [
              0.7777777777777778,
              "#fb9f3a"
             ],
             [
              0.8888888888888888,
              "#fdca26"
             ],
             [
              1,
              "#f0f921"
             ]
            ],
            "type": "histogram2dcontour"
           }
          ],
          "mesh3d": [
           {
            "colorbar": {
             "outlinewidth": 0,
             "ticks": ""
            },
            "type": "mesh3d"
           }
          ],
          "parcoords": [
           {
            "line": {
             "colorbar": {
              "outlinewidth": 0,
              "ticks": ""
             }
            },
            "type": "parcoords"
           }
          ],
          "pie": [
           {
            "automargin": true,
            "type": "pie"
           }
          ],
          "scatter": [
           {
            "fillpattern": {
             "fillmode": "overlay",
             "size": 10,
             "solidity": 0.2
            },
            "type": "scatter"
           }
          ],
          "scatter3d": [
           {
            "line": {
             "colorbar": {
              "outlinewidth": 0,
              "ticks": ""
             }
            },
            "marker": {
             "colorbar": {
              "outlinewidth": 0,
              "ticks": ""
             }
            },
            "type": "scatter3d"
           }
          ],
          "scattercarpet": [
           {
            "marker": {
             "colorbar": {
              "outlinewidth": 0,
              "ticks": ""
             }
            },
            "type": "scattercarpet"
           }
          ],
          "scattergeo": [
           {
            "marker": {
             "colorbar": {
              "outlinewidth": 0,
              "ticks": ""
             }
            },
            "type": "scattergeo"
           }
          ],
          "scattergl": [
           {
            "marker": {
             "colorbar": {
              "outlinewidth": 0,
              "ticks": ""
             }
            },
            "type": "scattergl"
           }
          ],
          "scattermap": [
           {
            "marker": {
             "colorbar": {
              "outlinewidth": 0,
              "ticks": ""
             }
            },
            "type": "scattermap"
           }
          ],
          "scattermapbox": [
           {
            "marker": {
             "colorbar": {
              "outlinewidth": 0,
              "ticks": ""
             }
            },
            "type": "scattermapbox"
           }
          ],
          "scatterpolar": [
           {
            "marker": {
             "colorbar": {
              "outlinewidth": 0,
              "ticks": ""
             }
            },
            "type": "scatterpolar"
           }
          ],
          "scatterpolargl": [
           {
            "marker": {
             "colorbar": {
              "outlinewidth": 0,
              "ticks": ""
             }
            },
            "type": "scatterpolargl"
           }
          ],
          "scatterternary": [
           {
            "marker": {
             "colorbar": {
              "outlinewidth": 0,
              "ticks": ""
             }
            },
            "type": "scatterternary"
           }
          ],
          "surface": [
           {
            "colorbar": {
             "outlinewidth": 0,
             "ticks": ""
            },
            "colorscale": [
             [
              0,
              "#0d0887"
             ],
             [
              0.1111111111111111,
              "#46039f"
             ],
             [
              0.2222222222222222,
              "#7201a8"
             ],
             [
              0.3333333333333333,
              "#9c179e"
             ],
             [
              0.4444444444444444,
              "#bd3786"
             ],
             [
              0.5555555555555556,
              "#d8576b"
             ],
             [
              0.6666666666666666,
              "#ed7953"
             ],
             [
              0.7777777777777778,
              "#fb9f3a"
             ],
             [
              0.8888888888888888,
              "#fdca26"
             ],
             [
              1,
              "#f0f921"
             ]
            ],
            "type": "surface"
           }
          ],
          "table": [
           {
            "cells": {
             "fill": {
              "color": "#EBF0F8"
             },
             "line": {
              "color": "white"
             }
            },
            "header": {
             "fill": {
              "color": "#C8D4E3"
             },
             "line": {
              "color": "white"
             }
            },
            "type": "table"
           }
          ]
         },
         "layout": {
          "annotationdefaults": {
           "arrowcolor": "#2a3f5f",
           "arrowhead": 0,
           "arrowwidth": 1
          },
          "autotypenumbers": "strict",
          "coloraxis": {
           "colorbar": {
            "outlinewidth": 0,
            "ticks": ""
           }
          },
          "colorscale": {
           "diverging": [
            [
             0,
             "#8e0152"
            ],
            [
             0.1,
             "#c51b7d"
            ],
            [
             0.2,
             "#de77ae"
            ],
            [
             0.3,
             "#f1b6da"
            ],
            [
             0.4,
             "#fde0ef"
            ],
            [
             0.5,
             "#f7f7f7"
            ],
            [
             0.6,
             "#e6f5d0"
            ],
            [
             0.7,
             "#b8e186"
            ],
            [
             0.8,
             "#7fbc41"
            ],
            [
             0.9,
             "#4d9221"
            ],
            [
             1,
             "#276419"
            ]
           ],
           "sequential": [
            [
             0,
             "#0d0887"
            ],
            [
             0.1111111111111111,
             "#46039f"
            ],
            [
             0.2222222222222222,
             "#7201a8"
            ],
            [
             0.3333333333333333,
             "#9c179e"
            ],
            [
             0.4444444444444444,
             "#bd3786"
            ],
            [
             0.5555555555555556,
             "#d8576b"
            ],
            [
             0.6666666666666666,
             "#ed7953"
            ],
            [
             0.7777777777777778,
             "#fb9f3a"
            ],
            [
             0.8888888888888888,
             "#fdca26"
            ],
            [
             1,
             "#f0f921"
            ]
           ],
           "sequentialminus": [
            [
             0,
             "#0d0887"
            ],
            [
             0.1111111111111111,
             "#46039f"
            ],
            [
             0.2222222222222222,
             "#7201a8"
            ],
            [
             0.3333333333333333,
             "#9c179e"
            ],
            [
             0.4444444444444444,
             "#bd3786"
            ],
            [
             0.5555555555555556,
             "#d8576b"
            ],
            [
             0.6666666666666666,
             "#ed7953"
            ],
            [
             0.7777777777777778,
             "#fb9f3a"
            ],
            [
             0.8888888888888888,
             "#fdca26"
            ],
            [
             1,
             "#f0f921"
            ]
           ]
          },
          "colorway": [
           "#636efa",
           "#EF553B",
           "#00cc96",
           "#ab63fa",
           "#FFA15A",
           "#19d3f3",
           "#FF6692",
           "#B6E880",
           "#FF97FF",
           "#FECB52"
          ],
          "font": {
           "color": "#2a3f5f"
          },
          "geo": {
           "bgcolor": "white",
           "lakecolor": "white",
           "landcolor": "#E5ECF6",
           "showlakes": true,
           "showland": true,
           "subunitcolor": "white"
          },
          "hoverlabel": {
           "align": "left"
          },
          "hovermode": "closest",
          "mapbox": {
           "style": "light"
          },
          "paper_bgcolor": "white",
          "plot_bgcolor": "#E5ECF6",
          "polar": {
           "angularaxis": {
            "gridcolor": "white",
            "linecolor": "white",
            "ticks": ""
           },
           "bgcolor": "#E5ECF6",
           "radialaxis": {
            "gridcolor": "white",
            "linecolor": "white",
            "ticks": ""
           }
          },
          "scene": {
           "xaxis": {
            "backgroundcolor": "#E5ECF6",
            "gridcolor": "white",
            "gridwidth": 2,
            "linecolor": "white",
            "showbackground": true,
            "ticks": "",
            "zerolinecolor": "white"
           },
           "yaxis": {
            "backgroundcolor": "#E5ECF6",
            "gridcolor": "white",
            "gridwidth": 2,
            "linecolor": "white",
            "showbackground": true,
            "ticks": "",
            "zerolinecolor": "white"
           },
           "zaxis": {
            "backgroundcolor": "#E5ECF6",
            "gridcolor": "white",
            "gridwidth": 2,
            "linecolor": "white",
            "showbackground": true,
            "ticks": "",
            "zerolinecolor": "white"
           }
          },
          "shapedefaults": {
           "line": {
            "color": "#2a3f5f"
           }
          },
          "ternary": {
           "aaxis": {
            "gridcolor": "white",
            "linecolor": "white",
            "ticks": ""
           },
           "baxis": {
            "gridcolor": "white",
            "linecolor": "white",
            "ticks": ""
           },
           "bgcolor": "#E5ECF6",
           "caxis": {
            "gridcolor": "white",
            "linecolor": "white",
            "ticks": ""
           }
          },
          "title": {
           "x": 0.05
          },
          "xaxis": {
           "automargin": true,
           "gridcolor": "white",
           "linecolor": "white",
           "ticks": "",
           "title": {
            "standoff": 15
           },
           "zerolinecolor": "white",
           "zerolinewidth": 2
          },
          "yaxis": {
           "automargin": true,
           "gridcolor": "white",
           "linecolor": "white",
           "ticks": "",
           "title": {
            "standoff": 15
           },
           "zerolinecolor": "white",
           "zerolinewidth": 2
          }
         }
        },
        "xaxis": {
         "anchor": "y",
         "domain": [
          0,
          1
         ],
         "title": {
          "text": "x"
         }
        },
        "yaxis": {
         "anchor": "x",
         "domain": [
          0,
          1
         ],
         "title": {
          "text": "y"
         }
        }
       }
      }
     },
     "metadata": {},
     "output_type": "display_data"
    }
   ],
   "source": [
    "MAX_WORDS=200\n",
    "vecs, labels = reduce_dimensions(w2v_model)\n",
    "fig = px.scatter(x=vecs[:MAX_WORDS,0], y=vecs[:MAX_WORDS,1], text=labels[:MAX_WORDS])\n",
    "fig.show(render_mode=\"vscode\")"
   ]
  },
  {
   "cell_type": "markdown",
   "id": "bd90041f",
   "metadata": {},
   "source": [
    "A continuación se visualizan 200 palabras en 3 dimensiones:"
   ]
  },
  {
   "cell_type": "code",
   "execution_count": 143,
   "id": "3d830791",
   "metadata": {},
   "outputs": [
    {
     "data": {
      "application/vnd.plotly.v1+json": {
       "config": {
        "plotlyServerURL": "https://plot.ly"
       },
       "data": [
        {
         "hovertemplate": "x=%{x}<br>y=%{y}<br>z=%{z}<br>text=%{text}<extra></extra>",
         "legendgroup": "",
         "marker": {
          "color": "#636efa",
          "size": 2,
          "symbol": "circle"
         },
         "mode": "markers+text",
         "name": "",
         "scene": "scene",
         "showlegend": false,
         "text": [
          "no",
          "que",
          "a",
          "de",
          "la",
          "te",
          "me",
          "el",
          "un",
          "lo",
          "es",
          "y",
          "en",
          "yo",
          "¿qué",
          "se",
          "vos",
          "qué",
          "por",
          "las",
          "con",
          "una",
          "para",
          "si",
          "mi",
          "los",
          "le",
          "tu",
          "está",
          "pero",
          "más",
          "sí",
          "tengo",
          "voy",
          "esto",
          "nada",
          "eso",
          "¿y",
          "estás",
          "ya",
          "al",
          "pasa",
          "guita",
          "del",
          "bien",
          "como",
          "hermana",
          "algo",
          "hacer",
          "va",
          "todo",
          "sé",
          "estoy",
          "acá",
          "tiene",
          "¿no",
          "¿por",
          "mí",
          "nos",
          "bueno",
          "él",
          "era",
          "estampillas",
          "¿cómo",
          "cosa",
          "hace",
          "son",
          "ni",
          "porque",
          "ahora",
          "mierda",
          "soy",
          "¿te",
          "puedo",
          "querés",
          "sos",
          "así",
          "50",
          "ver",
          "muy",
          "hay",
          "lucas",
          "tenés",
          "tiempo",
          "ella",
          "hotel",
          "viejo",
          "ahí",
          "este",
          "quiero",
          "cheque",
          "000",
          "plata",
          "puta",
          "menos",
          "sandler",
          "¿de",
          "o",
          "tipo",
          "dos",
          "usted",
          "sea",
          "hacés",
          "verdad",
          "todos",
          "falta",
          "hoy",
          "dijo",
          "mejor",
          "ser",
          "mucho",
          "vamos",
          "vez",
          "vidal",
          "nunca",
          "quiere",
          "fue",
          "¿quién",
          "mamá",
          "marcos",
          "vas",
          "mismo",
          "quién",
          "boludo",
          "mal",
          "pasó",
          "puede",
          "favor",
          "vida",
          "parte",
          "pará",
          "hermano",
          "cómo",
          "pelotudo",
          "decir",
          "digo",
          "otra",
          "mirá",
          "necesito",
          "cuando",
          "tenía",
          "esta",
          "día",
          "negocio",
          "ese",
          "llamar",
          "poco",
          "dónde",
          "vení",
          "ir",
          "dale",
          "dame",
          "toda",
          "hijo",
          "creés",
          "hablando",
          "uno",
          "sobre",
          "también",
          "están",
          "tan",
          "escucháme",
          "estamos",
          "mañana",
          "amigo",
          "¿a",
          "truco",
          "10",
          "esa",
          "culo",
          "importa",
          "hasta",
          "gracias",
          "allá",
          "chau",
          "otro",
          "marido",
          "asunto",
          "hice",
          "¿estás",
          "nadie",
          "su",
          "estaba",
          "pibe",
          "quería",
          "claro",
          "cierto",
          "después",
          "tema",
          "vieja",
          "vi",
          "tú",
          "sabés",
          "digas",
          "200",
          "nueve",
          "vale",
          "quizás",
          "veces",
          "tuyo"
         ],
         "type": "scatter3d",
         "x": {
          "bdata": "1AlTwqh2g8ElK2zCS6MpQgmaz0GyHQvCjDmBwZ+AVkHoUihCGxcIv/J0ckLj4w/CeS5uQcr6osESGm7A2+D4wKfdusFUgiHChxaCQXxyjUGfPqlCEuEBvyocP8Ki3SbCLuWDQuG0ekL41EvC61uRQkhWOsAZWFjBADBBwg8YOEKqdhRC1I8mwjglnEEdJgXCtLn9QTePVcICsgbCtQPBv2Z1gsJ5wz3BtveOQmsIX0EgL6NAS+RgQVfUm0IQWzhCW5hAwmDIRsI8zBfBqONgQtH6K8L09ozCOhZsQjq5V8LEU4JCkNzbwU5wCsLRz/vBqqOJwc2ceUI2FvFBU4TYQUetRsEH90DATVOJQKps8MCicoDCdPtawuQUtUFHeUpAedOgQCG7mMIcqvfAdKoJQg1BnUJvSKDCFByfwdCUOcHerL3BY3mhwoFxMEIeFQBCmqRuQhHbFEFOYmRC+xOawO8QMcFNxYNBObteQleWoMJ/sZhCxMMdQnKVxMHNVXRCfpqFwqN4T8LQFElCtAZMwpAeHkJaH5fBAejpQFt8iUIJMWJCBxmcQQhTdUASdAFCqr9KQXgfhUG+WftBWGfzwX4oB0EAcd89LJwXwhzNCcKexWnBa6gmQhBrIULh1YDC8J8YwodSmj9XPjFC5aB6QWvFh0JR1Jk/gBoKwqeKNEIhxR5CiPnNwUU7QkIgCFZCleqTQdYzQkBkCR3CJbSMQgCB/8FMGIRCXn8fwrEEo8FMFQ7CUr6RwiN700FQMTFCsFG6v+ttTcLemzlCv2pqwjgehsDgmj/CuorLwdlfN0IryV5BKsUPQoRnl8Fr7gnCj6ckwjl2WEJbJxnCidrGv4EYKr56DcDBJNwKQmfaocLBNiFCiYyYwSbKiUGbag3CYLNvwcrDCEJJ0FDCeIYoQCl2uEGimufBym0SQjlsDcLLMkJC5/mSQKbOOsF9aDfBDcU9wmyRmsGRIz7BBcajQaGzOcFFt+hBARm6QZwotsG5JplCXVUwQm7/90EbTBNBsVq+QVtwv70GWpfCECAAQmqRH0GTaYjB/yETwu7X6UA=",
          "dtype": "f4"
         },
         "y": {
          "bdata": "Qmw7Qhk1AkLPdgxC/lxQwpB5zcEMqYlCi2EOQqoEIUEhWhnCZ8ZJQpPSNkKOAYrCiFQtQehfjEKZlU9C3QybQgBHwkHgf+/AiQzIQFz+x8FgVAbAfC2HPzhF+EA74ARCY2AWQgpDTcE3SAfCNyHvQWJXIkHN3YbAdGesv4NzMULmNYVCk3+MQnJ0n0K9KEZAX2pCQt0QMEEuMTdAMIqBwoZl0EGw7E9CHJSaQHMtpEGmg9dBScFUwnPxyUDKQTvCLd3wQSD1iELo4DdAdE6PQsW/00GcpArCQPIUwhC2acLaCoZCJLCEQoUoJsHwNq/BCnSLQgTXHUDF3mPBoepXwiNwQ8EQ9nbCgBhrwah52EGC3wdCYg1BwrMLMcKl8DjCIUxawjxEd0GAFx9CECVcwgG05sEpvgrCb7hCQglYkMLN519CEh/nwYeNv0Gm1yLCR0jwQZ8HCsE9JZhBJ5d6Qa2lpMJisZBCsSVfwr7iG8GpG7VBr+EgwnyQj8HmzR/BVbbAQPtMC0E9kK7BEamKwjPwVUFgkGHCWopDQqpiHEJXi57BD4RswuDRTULgzDpCDtRkQkopVsK5IIHCM7KnQZtVNcG+4RJCV7cnwoB2Gz8sYYrBC4jUP+1bvEFZwUrCVDRjQkg6TkKL1Y1CyjkDwlLp+8FKbQpCHULrQYNqS0I1M4TBLpJBwsxkyUBb4KRAUwzVwKqvCMK+/kNCHF4YQkUDr8EEGmVBAOlDQpoDYMIvwm7CB+3DwTdbDsLRAGzBOgPrwXMwVELVjfrB1YQ9wXr1FEKBTQ3CF9ysQTSzT8J1JyDCoN2Gwq0D9cH7QIXB/gB/wm0UXUFCyB3C6jAFwVlFfcIdzDJCY0K5P4M7PsFe9E9BR2k1PylR4sHx5gnCyZQJQI83jcC1rCDB1cWeQl4KJkK20JRBeqA8Qhl98kF2/5FAY6yWwpWn8MF+LKLBchmSQQ5cGUFlfSfCJjT7QJuLakK7mxVC3iaFQkYqE8IHHWLBjjK8QYXCt0GiDcVBfuwNQp58mkHW+hjC92WjwUzDqsIKn2jChr4zwootlkI=",
          "dtype": "f4"
         },
         "z": {
          "bdata": "KGP5wFSTDMLI8+VBkmztQSEIOcIf5jHB8Ay1wJzimMJ9v4VBOq8rwT2LQMHpg20/pWZdwj7UQMADdZ9CE42wwYYBDEK2QnFCHkqAQvSoikIHk3VBPKGVwRb3FsL2fvxBnwoUwtNlM0JmsGNCBcQPwpGcEsJ8mmxC3nXqwN7llsFYtcHBoa2QQTbZOT0PJ4LBr/dtwjs/HUKw3kJCUp7HQZxDCML1x4NC4paRv6g/i8IqQ/VBZmliwbeL9cH9Kj7CoFhZQrJd60HBOqhCG9qrP7iZzsF7SAZCtgazweLTGsL9QytBCYQGQo+kXcJsrplBxe2kQXFOIMKQOW9C23J/wtzJm8LlaGLAqPWFQpYsXcK1N9Q/D+gZwR4P7kCtg2NBmudFQh7eScFqYIdCL0oYQl5yB0FZzm7B19uAQRHZKcIfdkTCtSnYwYCAI0JgLfrB0j1vQhRddMIPbFrC3C1aQrMK0UCAICLCw4eyQP0AUsFOq/7AQ1cmQudfrcGX95PB13XrQSn/fcKxkBvC4yRSwSTAgEIHA3LCNm57QqTryEAgCv1B1HEYwhCzZsLf5gTCFbe1wd1g0kEdwrLBX3OJQqF6zUCA5MDBdRxiwqIJSkGI0QxCyeYwQo/DVsLwPDhBlybhQXusO8JEaOZBlFAFQizK6z0orZFCJTtMwrndF0EcH3bChv1dQtOYzUEZFVXCDAQlwhH5B0LMjaBAKPwGQhS3msJRBPhBW3f3wVSOA0Lhi0JBfZZ2QXcOF8Eh0tvBofE9wpL/p0GmKY/Bp9ImQto2LkKwCq9BeU5eQjueB8FQ8DTCDkL4QfDuiEL27jRCsuC2QZQtMMEqJfJB9GBXQs6dV8I9oTNCWqewQTo6dkG/+i/CxxPYQW7SlMIbcw/Cc3SYwVGCnUAoqYRBz3pjQdCtKEIIF5pBP5FAQrpWhMCvDv3BnUGiwT1ClEG21AvCNFJewVHYiMLqVWzCKETiwInA5z+OO37Az/thQdjusMHz7S3CO1ATwuI0qcFkDzzCLRlzQqPoh8HomiHCgDKUQp/wScHVjAvC4kNpwMj9EEI=",
          "dtype": "f4"
         }
        }
       ],
       "layout": {
        "legend": {
         "tracegroupgap": 0
        },
        "margin": {
         "t": 60
        },
        "scene": {
         "domain": {
          "x": [
           0,
           1
          ],
          "y": [
           0,
           1
          ]
         },
         "xaxis": {
          "title": {
           "text": "x"
          }
         },
         "yaxis": {
          "title": {
           "text": "y"
          }
         },
         "zaxis": {
          "title": {
           "text": "z"
          }
         }
        },
        "template": {
         "data": {
          "bar": [
           {
            "error_x": {
             "color": "#2a3f5f"
            },
            "error_y": {
             "color": "#2a3f5f"
            },
            "marker": {
             "line": {
              "color": "#E5ECF6",
              "width": 0.5
             },
             "pattern": {
              "fillmode": "overlay",
              "size": 10,
              "solidity": 0.2
             }
            },
            "type": "bar"
           }
          ],
          "barpolar": [
           {
            "marker": {
             "line": {
              "color": "#E5ECF6",
              "width": 0.5
             },
             "pattern": {
              "fillmode": "overlay",
              "size": 10,
              "solidity": 0.2
             }
            },
            "type": "barpolar"
           }
          ],
          "carpet": [
           {
            "aaxis": {
             "endlinecolor": "#2a3f5f",
             "gridcolor": "white",
             "linecolor": "white",
             "minorgridcolor": "white",
             "startlinecolor": "#2a3f5f"
            },
            "baxis": {
             "endlinecolor": "#2a3f5f",
             "gridcolor": "white",
             "linecolor": "white",
             "minorgridcolor": "white",
             "startlinecolor": "#2a3f5f"
            },
            "type": "carpet"
           }
          ],
          "choropleth": [
           {
            "colorbar": {
             "outlinewidth": 0,
             "ticks": ""
            },
            "type": "choropleth"
           }
          ],
          "contour": [
           {
            "colorbar": {
             "outlinewidth": 0,
             "ticks": ""
            },
            "colorscale": [
             [
              0,
              "#0d0887"
             ],
             [
              0.1111111111111111,
              "#46039f"
             ],
             [
              0.2222222222222222,
              "#7201a8"
             ],
             [
              0.3333333333333333,
              "#9c179e"
             ],
             [
              0.4444444444444444,
              "#bd3786"
             ],
             [
              0.5555555555555556,
              "#d8576b"
             ],
             [
              0.6666666666666666,
              "#ed7953"
             ],
             [
              0.7777777777777778,
              "#fb9f3a"
             ],
             [
              0.8888888888888888,
              "#fdca26"
             ],
             [
              1,
              "#f0f921"
             ]
            ],
            "type": "contour"
           }
          ],
          "contourcarpet": [
           {
            "colorbar": {
             "outlinewidth": 0,
             "ticks": ""
            },
            "type": "contourcarpet"
           }
          ],
          "heatmap": [
           {
            "colorbar": {
             "outlinewidth": 0,
             "ticks": ""
            },
            "colorscale": [
             [
              0,
              "#0d0887"
             ],
             [
              0.1111111111111111,
              "#46039f"
             ],
             [
              0.2222222222222222,
              "#7201a8"
             ],
             [
              0.3333333333333333,
              "#9c179e"
             ],
             [
              0.4444444444444444,
              "#bd3786"
             ],
             [
              0.5555555555555556,
              "#d8576b"
             ],
             [
              0.6666666666666666,
              "#ed7953"
             ],
             [
              0.7777777777777778,
              "#fb9f3a"
             ],
             [
              0.8888888888888888,
              "#fdca26"
             ],
             [
              1,
              "#f0f921"
             ]
            ],
            "type": "heatmap"
           }
          ],
          "histogram": [
           {
            "marker": {
             "pattern": {
              "fillmode": "overlay",
              "size": 10,
              "solidity": 0.2
             }
            },
            "type": "histogram"
           }
          ],
          "histogram2d": [
           {
            "colorbar": {
             "outlinewidth": 0,
             "ticks": ""
            },
            "colorscale": [
             [
              0,
              "#0d0887"
             ],
             [
              0.1111111111111111,
              "#46039f"
             ],
             [
              0.2222222222222222,
              "#7201a8"
             ],
             [
              0.3333333333333333,
              "#9c179e"
             ],
             [
              0.4444444444444444,
              "#bd3786"
             ],
             [
              0.5555555555555556,
              "#d8576b"
             ],
             [
              0.6666666666666666,
              "#ed7953"
             ],
             [
              0.7777777777777778,
              "#fb9f3a"
             ],
             [
              0.8888888888888888,
              "#fdca26"
             ],
             [
              1,
              "#f0f921"
             ]
            ],
            "type": "histogram2d"
           }
          ],
          "histogram2dcontour": [
           {
            "colorbar": {
             "outlinewidth": 0,
             "ticks": ""
            },
            "colorscale": [
             [
              0,
              "#0d0887"
             ],
             [
              0.1111111111111111,
              "#46039f"
             ],
             [
              0.2222222222222222,
              "#7201a8"
             ],
             [
              0.3333333333333333,
              "#9c179e"
             ],
             [
              0.4444444444444444,
              "#bd3786"
             ],
             [
              0.5555555555555556,
              "#d8576b"
             ],
             [
              0.6666666666666666,
              "#ed7953"
             ],
             [
              0.7777777777777778,
              "#fb9f3a"
             ],
             [
              0.8888888888888888,
              "#fdca26"
             ],
             [
              1,
              "#f0f921"
             ]
            ],
            "type": "histogram2dcontour"
           }
          ],
          "mesh3d": [
           {
            "colorbar": {
             "outlinewidth": 0,
             "ticks": ""
            },
            "type": "mesh3d"
           }
          ],
          "parcoords": [
           {
            "line": {
             "colorbar": {
              "outlinewidth": 0,
              "ticks": ""
             }
            },
            "type": "parcoords"
           }
          ],
          "pie": [
           {
            "automargin": true,
            "type": "pie"
           }
          ],
          "scatter": [
           {
            "fillpattern": {
             "fillmode": "overlay",
             "size": 10,
             "solidity": 0.2
            },
            "type": "scatter"
           }
          ],
          "scatter3d": [
           {
            "line": {
             "colorbar": {
              "outlinewidth": 0,
              "ticks": ""
             }
            },
            "marker": {
             "colorbar": {
              "outlinewidth": 0,
              "ticks": ""
             }
            },
            "type": "scatter3d"
           }
          ],
          "scattercarpet": [
           {
            "marker": {
             "colorbar": {
              "outlinewidth": 0,
              "ticks": ""
             }
            },
            "type": "scattercarpet"
           }
          ],
          "scattergeo": [
           {
            "marker": {
             "colorbar": {
              "outlinewidth": 0,
              "ticks": ""
             }
            },
            "type": "scattergeo"
           }
          ],
          "scattergl": [
           {
            "marker": {
             "colorbar": {
              "outlinewidth": 0,
              "ticks": ""
             }
            },
            "type": "scattergl"
           }
          ],
          "scattermap": [
           {
            "marker": {
             "colorbar": {
              "outlinewidth": 0,
              "ticks": ""
             }
            },
            "type": "scattermap"
           }
          ],
          "scattermapbox": [
           {
            "marker": {
             "colorbar": {
              "outlinewidth": 0,
              "ticks": ""
             }
            },
            "type": "scattermapbox"
           }
          ],
          "scatterpolar": [
           {
            "marker": {
             "colorbar": {
              "outlinewidth": 0,
              "ticks": ""
             }
            },
            "type": "scatterpolar"
           }
          ],
          "scatterpolargl": [
           {
            "marker": {
             "colorbar": {
              "outlinewidth": 0,
              "ticks": ""
             }
            },
            "type": "scatterpolargl"
           }
          ],
          "scatterternary": [
           {
            "marker": {
             "colorbar": {
              "outlinewidth": 0,
              "ticks": ""
             }
            },
            "type": "scatterternary"
           }
          ],
          "surface": [
           {
            "colorbar": {
             "outlinewidth": 0,
             "ticks": ""
            },
            "colorscale": [
             [
              0,
              "#0d0887"
             ],
             [
              0.1111111111111111,
              "#46039f"
             ],
             [
              0.2222222222222222,
              "#7201a8"
             ],
             [
              0.3333333333333333,
              "#9c179e"
             ],
             [
              0.4444444444444444,
              "#bd3786"
             ],
             [
              0.5555555555555556,
              "#d8576b"
             ],
             [
              0.6666666666666666,
              "#ed7953"
             ],
             [
              0.7777777777777778,
              "#fb9f3a"
             ],
             [
              0.8888888888888888,
              "#fdca26"
             ],
             [
              1,
              "#f0f921"
             ]
            ],
            "type": "surface"
           }
          ],
          "table": [
           {
            "cells": {
             "fill": {
              "color": "#EBF0F8"
             },
             "line": {
              "color": "white"
             }
            },
            "header": {
             "fill": {
              "color": "#C8D4E3"
             },
             "line": {
              "color": "white"
             }
            },
            "type": "table"
           }
          ]
         },
         "layout": {
          "annotationdefaults": {
           "arrowcolor": "#2a3f5f",
           "arrowhead": 0,
           "arrowwidth": 1
          },
          "autotypenumbers": "strict",
          "coloraxis": {
           "colorbar": {
            "outlinewidth": 0,
            "ticks": ""
           }
          },
          "colorscale": {
           "diverging": [
            [
             0,
             "#8e0152"
            ],
            [
             0.1,
             "#c51b7d"
            ],
            [
             0.2,
             "#de77ae"
            ],
            [
             0.3,
             "#f1b6da"
            ],
            [
             0.4,
             "#fde0ef"
            ],
            [
             0.5,
             "#f7f7f7"
            ],
            [
             0.6,
             "#e6f5d0"
            ],
            [
             0.7,
             "#b8e186"
            ],
            [
             0.8,
             "#7fbc41"
            ],
            [
             0.9,
             "#4d9221"
            ],
            [
             1,
             "#276419"
            ]
           ],
           "sequential": [
            [
             0,
             "#0d0887"
            ],
            [
             0.1111111111111111,
             "#46039f"
            ],
            [
             0.2222222222222222,
             "#7201a8"
            ],
            [
             0.3333333333333333,
             "#9c179e"
            ],
            [
             0.4444444444444444,
             "#bd3786"
            ],
            [
             0.5555555555555556,
             "#d8576b"
            ],
            [
             0.6666666666666666,
             "#ed7953"
            ],
            [
             0.7777777777777778,
             "#fb9f3a"
            ],
            [
             0.8888888888888888,
             "#fdca26"
            ],
            [
             1,
             "#f0f921"
            ]
           ],
           "sequentialminus": [
            [
             0,
             "#0d0887"
            ],
            [
             0.1111111111111111,
             "#46039f"
            ],
            [
             0.2222222222222222,
             "#7201a8"
            ],
            [
             0.3333333333333333,
             "#9c179e"
            ],
            [
             0.4444444444444444,
             "#bd3786"
            ],
            [
             0.5555555555555556,
             "#d8576b"
            ],
            [
             0.6666666666666666,
             "#ed7953"
            ],
            [
             0.7777777777777778,
             "#fb9f3a"
            ],
            [
             0.8888888888888888,
             "#fdca26"
            ],
            [
             1,
             "#f0f921"
            ]
           ]
          },
          "colorway": [
           "#636efa",
           "#EF553B",
           "#00cc96",
           "#ab63fa",
           "#FFA15A",
           "#19d3f3",
           "#FF6692",
           "#B6E880",
           "#FF97FF",
           "#FECB52"
          ],
          "font": {
           "color": "#2a3f5f"
          },
          "geo": {
           "bgcolor": "white",
           "lakecolor": "white",
           "landcolor": "#E5ECF6",
           "showlakes": true,
           "showland": true,
           "subunitcolor": "white"
          },
          "hoverlabel": {
           "align": "left"
          },
          "hovermode": "closest",
          "mapbox": {
           "style": "light"
          },
          "paper_bgcolor": "white",
          "plot_bgcolor": "#E5ECF6",
          "polar": {
           "angularaxis": {
            "gridcolor": "white",
            "linecolor": "white",
            "ticks": ""
           },
           "bgcolor": "#E5ECF6",
           "radialaxis": {
            "gridcolor": "white",
            "linecolor": "white",
            "ticks": ""
           }
          },
          "scene": {
           "xaxis": {
            "backgroundcolor": "#E5ECF6",
            "gridcolor": "white",
            "gridwidth": 2,
            "linecolor": "white",
            "showbackground": true,
            "ticks": "",
            "zerolinecolor": "white"
           },
           "yaxis": {
            "backgroundcolor": "#E5ECF6",
            "gridcolor": "white",
            "gridwidth": 2,
            "linecolor": "white",
            "showbackground": true,
            "ticks": "",
            "zerolinecolor": "white"
           },
           "zaxis": {
            "backgroundcolor": "#E5ECF6",
            "gridcolor": "white",
            "gridwidth": 2,
            "linecolor": "white",
            "showbackground": true,
            "ticks": "",
            "zerolinecolor": "white"
           }
          },
          "shapedefaults": {
           "line": {
            "color": "#2a3f5f"
           }
          },
          "ternary": {
           "aaxis": {
            "gridcolor": "white",
            "linecolor": "white",
            "ticks": ""
           },
           "baxis": {
            "gridcolor": "white",
            "linecolor": "white",
            "ticks": ""
           },
           "bgcolor": "#E5ECF6",
           "caxis": {
            "gridcolor": "white",
            "linecolor": "white",
            "ticks": ""
           }
          },
          "title": {
           "x": 0.05
          },
          "xaxis": {
           "automargin": true,
           "gridcolor": "white",
           "linecolor": "white",
           "ticks": "",
           "title": {
            "standoff": 15
           },
           "zerolinecolor": "white",
           "zerolinewidth": 2
          },
          "yaxis": {
           "automargin": true,
           "gridcolor": "white",
           "linecolor": "white",
           "ticks": "",
           "title": {
            "standoff": 15
           },
           "zerolinecolor": "white",
           "zerolinewidth": 2
          }
         }
        }
       }
      }
     },
     "metadata": {},
     "output_type": "display_data"
    }
   ],
   "source": [
    "vecs, labels = reduce_dimensions(w2v_model,3)\n",
    "\n",
    "fig = px.scatter_3d(x=vecs[:MAX_WORDS,0], y=vecs[:MAX_WORDS,1], z=vecs[:MAX_WORDS,2],text=labels[:MAX_WORDS])\n",
    "fig.update_traces(marker_size = 2)\n",
    "fig.show(renderer=\"vscode\")"
   ]
  },
  {
   "cell_type": "markdown",
   "id": "16842ed8",
   "metadata": {},
   "source": [
    "Con el motivo de poder visualizar los vectores si no se dispone la figura generada por el notebook, se genera un archivo tsv para graficar en http://projector.tensorflow.org/"
   ]
  },
  {
   "cell_type": "code",
   "execution_count": 144,
   "id": "0459fb50",
   "metadata": {},
   "outputs": [],
   "source": [
    "vectors = np.asarray(w2v_model.wv.vectors)\n",
    "labels = list(w2v_model.wv.index_to_key)\n",
    "\n",
    "np.savetxt(\"output/vectors.tsv\", vectors, delimiter=\"\\t\")\n",
    "\n",
    "with open(\"output/labels.tsv\", \"w\") as fp:\n",
    "    for item in labels:\n",
    "        fp.write(\"%s\\n\" % item)"
   ]
  },
  {
   "cell_type": "markdown",
   "id": "a9befc64",
   "metadata": {},
   "source": [
    "## Conclusiones\n",
    "En la visualización se pueden identificar grupos de interés con gran contenido semántico que exponen el funcionamiento del embedding. Por ejemplo los grupos con las siguientes palabras:\n",
    "- Marido, hermano, hermana, viejo, vieja, mamá.\n",
    "- Las, nueve, estampillas\n",
    "- Que, querés, pasa, pasó, haces\n",
    "- Mi, tu (practicamente el mismo vector)\n",
    "Varios insultos se encuentran muy cercanos entre sí.\n",
    "\n",
    "También la asociación \"dame\", \"dijiste\" y \"cheque\" resulta simpática para quien vio la película.\n",
    "\n",
    "Se obtuvieron mejores resultados con skipgram que con CBOW. En general, a pesar de experimentar con distintos valores en el modelo, los mejores resultados se obtuvieron con los parámetros utilizados en la práctica de la clase."
   ]
  }
 ],
 "metadata": {
  "kernelspec": {
   "display_name": ".venv",
   "language": "python",
   "name": "python3"
  },
  "language_info": {
   "codemirror_mode": {
    "name": "ipython",
    "version": 3
   },
   "file_extension": ".py",
   "mimetype": "text/x-python",
   "name": "python",
   "nbconvert_exporter": "python",
   "pygments_lexer": "ipython3",
   "version": "3.12.3"
  }
 },
 "nbformat": 4,
 "nbformat_minor": 5
}
